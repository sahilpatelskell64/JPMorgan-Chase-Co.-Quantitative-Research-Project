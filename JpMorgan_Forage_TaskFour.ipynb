{
  "nbformat": 4,
  "nbformat_minor": 0,
  "metadata": {
    "colab": {
      "provenance": [],
      "authorship_tag": "ABX9TyOwSjh3FPWyFSRQ8M/sNjka",
      "include_colab_link": true
    },
    "kernelspec": {
      "name": "python3",
      "display_name": "Python 3"
    },
    "language_info": {
      "name": "python"
    }
  },
  "cells": [
    {
      "cell_type": "markdown",
      "metadata": {
        "id": "view-in-github",
        "colab_type": "text"
      },
      "source": [
        "<a href=\"https://colab.research.google.com/github/sahilpatelskell64/JPMorgan-Chase-Co.-Quantitative-Research-Project/blob/main/JpMorgan_Forage_TaskFour.ipynb\" target=\"_parent\"><img src=\"https://colab.research.google.com/assets/colab-badge.svg\" alt=\"Open In Colab\"/></a>"
      ]
    },
    {
      "cell_type": "code",
      "execution_count": null,
      "metadata": {
        "colab": {
          "base_uri": "https://localhost:8080/"
        },
        "id": "wZjWC9By-mLo",
        "outputId": "4c9fc18f-1c77-4b01-b9f9-372574da1c51"
      },
      "outputs": [
        {
          "output_type": "stream",
          "name": "stdout",
          "text": [
            "<class 'pandas.core.frame.DataFrame'>\n",
            "RangeIndex: 10000 entries, 0 to 9999\n",
            "Data columns (total 8 columns):\n",
            " #   Column                    Non-Null Count  Dtype  \n",
            "---  ------                    --------------  -----  \n",
            " 0   customer_id               10000 non-null  int64  \n",
            " 1   credit_lines_outstanding  10000 non-null  int64  \n",
            " 2   loan_amt_outstanding      10000 non-null  float64\n",
            " 3   total_debt_outstanding    10000 non-null  float64\n",
            " 4   income                    10000 non-null  float64\n",
            " 5   years_employed            10000 non-null  int64  \n",
            " 6   fico_score                10000 non-null  int64  \n",
            " 7   default                   10000 non-null  int64  \n",
            "dtypes: float64(3), int64(5)\n",
            "memory usage: 625.1 KB\n"
          ]
        }
      ],
      "source": [
        "import pandas as pd\n",
        "# Load dataset into panda df\n",
        "df_loan = pd.read_csv(\"/content/Task 3 and 4_Loan_Data.csv\")\n",
        "\n",
        "# Quick look\n",
        "df_loan.info()"
      ]
    },
    {
      "cell_type": "code",
      "source": [
        "# Plot histogram of FICO scores to look at overall distribution\n",
        "\n",
        "import matplotlib.pyplot as plt\n",
        "\n",
        "plt.hist(df_loan['fico_score'], bins=30) # Optimal bins is the square root of number of values (1000 in this case)\n",
        "plt.xlabel('FICO Score')\n",
        "plt.ylabel('Frequency')\n",
        "plt.title('Distribution of FICO Scores')\n",
        "plt.show()"
      ],
      "metadata": {
        "colab": {
          "base_uri": "https://localhost:8080/",
          "height": 472
        },
        "id": "6plJFq3VHkHF",
        "outputId": "6fe25a2d-21eb-4395-f0bb-be39ac5b5c13"
      },
      "execution_count": null,
      "outputs": [
        {
          "output_type": "display_data",
          "data": {
            "text/plain": [
              "<Figure size 640x480 with 1 Axes>"
            ],
            "image/png": "[encoded data removed]"
          },
          "metadata": {}
        }
      ]
    },
    {
      "cell_type": "markdown",
      "source": [
        "In this task, we will focus on minimizing the MSE for each bucket."
      ],
      "metadata": {
        "id": "yB1P3p4dp_Zw"
      }
    },
    {
      "cell_type": "code",
      "source": [
        "import numpy as np\n",
        "\n",
        "# Compute the cumulative cost function by implementing the MSE formula:\n",
        "# cost = (sum of squares) - (sum)^2 / n\n",
        "def compute_cost(cum_sum, cum_sum_sq, i , j):\n",
        "  # Number of elements in the interval\n",
        "  n = j - i + 1\n",
        "  # Compute totals\n",
        "  total = cum_sum[j+1] - cum_sum[i]\n",
        "  total_sq = cum_sum_sq[j+1] - cum_sum_sq[i]\n",
        "  # Compute cost\n",
        "  cost = total_sq - ((total**2)/n)\n",
        "\n",
        "  return cost\n"
      ],
      "metadata": {
        "id": "08LIfIB2Hrop"
      },
      "execution_count": null,
      "outputs": []
    },
    {
      "cell_type": "code",
      "source": [
        "# We use dynamic programming to determine how to create each bucket by minimizing MSE\n",
        "\n",
        "def optimal_partition(scores, K):\n",
        "  n = len(scores)\n",
        "\n",
        "  # Compute cumulative sums and sum of squares arrays to append values to\n",
        "  cum_sum = np.zeros(n+1)\n",
        "  cum_sum_sq  = np.zeros(n+1)\n",
        "  for i in range(1, n+1):\n",
        "    cum_sum[i] = cum_sum[i-1] + scores[i-1]\n",
        "    cum_sum_sq[i] = cum_sum_sq[i-1] + scores[i-1]**2\n",
        "\n",
        "  # dp[i] holds the minimum cost to partition first i scores\n",
        "  dp = np.full(n+1, np.inf)\n",
        "  dp[0] = 0\n",
        "\n",
        "  # Re=store partition points with lowest minimum cost\n",
        "  partition = np.zeros(n+1, dtype=int)\n",
        "\n",
        "  # Keeping track of how many buckets we have used\n",
        "  for i in range(1, n+1):\n",
        "    for j in range(0,1):\n",
        "      # Calculate cost\n",
        "      cost = compute_cost(cum_sum, cum_sum_sq, j, i-1)\n",
        "      if dp[j] + cost < dp[i]:\n",
        "        dp[i] = dp[j] + cost\n",
        "        partition[i] = j\n",
        "\n",
        "  # Backtrack to get optimal boundaries\n",
        "  boundaries = []\n",
        "  i = n\n",
        "  while i > 0:\n",
        "    boundaries.append(i)\n",
        "    i = partition[i]\n",
        "  boundaries.reverse()\n",
        "\n",
        "  return boundaries, dp[n]"
      ],
      "metadata": {
        "id": "c2kac1W6skIn"
      },
      "execution_count": null,
      "outputs": []
    },
    {
      "cell_type": "code",
      "source": [
        "# Sort FICO scores\n",
        "df_fico = df_loan['fico_score']\n",
        "df_fico = df_fico.sort_values()"
      ],
      "metadata": {
        "id": "eYtnS0c2ze3m"
      },
      "execution_count": null,
      "outputs": []
    },
    {
      "cell_type": "code",
      "source": [
        "# Example usage\n",
        "\n",
        "K = 5 # test\n",
        "\n",
        "boundaries, total_cost = optimal_partition(df_fico, K)\n",
        "print(\"Optimal Boundaries (indices):\", boundaries)\n",
        "print(\"Total MSE Cost:\", total_cost)"
      ],
      "metadata": {
        "colab": {
          "base_uri": "https://localhost:8080/"
        },
        "id": "8_7SOKByzpbn",
        "outputId": "a99310de-ebbb-4e17-b16b-e1c956f2d78c"
      },
      "execution_count": null,
      "outputs": [
        {
          "output_type": "stream",
          "name": "stdout",
          "text": [
            "Optimal Boundaries (indices): [10000]\n",
            "Total MSE Cost: 36790136.707099915\n"
          ]
        }
      ]
    },
    {
      "cell_type": "code",
      "source": [],
      "metadata": {
        "id": "FajJe5ibz6zK"
      },
      "execution_count": null,
      "outputs": []
    }
  ]
}