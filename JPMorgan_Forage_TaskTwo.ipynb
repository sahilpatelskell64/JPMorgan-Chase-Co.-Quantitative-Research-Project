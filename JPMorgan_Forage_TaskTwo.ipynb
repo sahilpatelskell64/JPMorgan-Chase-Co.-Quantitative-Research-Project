{
  "nbformat": 4,
  "nbformat_minor": 0,
  "metadata": {
    "colab": {
      "provenance": [],
      "authorship_tag": "ABX9TyPwLKRB7EgKhjH47f/sKgFc",
      "include_colab_link": true
    },
    "kernelspec": {
      "name": "python3",
      "display_name": "Python 3"
    },
    "language_info": {
      "name": "python"
    }
  },
  "cells": [
    {
      "cell_type": "markdown",
      "metadata": {
        "id": "view-in-github",
        "colab_type": "text"
      },
      "source": [
        "<a href=\"https://colab.research.google.com/github/sahilpatelskell64/JPMorgan-Chase-Co.-Quantitative-Research-Project/blob/main/JPMorgan_Forage_TaskTwo.ipynb\" target=\"_parent\"><img src=\"https://colab.research.google.com/assets/colab-badge.svg\" alt=\"Open In Colab\"/></a>"
      ]
    },
    {
      "cell_type": "code",
      "execution_count": 1,
      "metadata": {
        "colab": {
          "base_uri": "https://localhost:8080/"
        },
        "id": "Slfxb4E6IFLw",
        "outputId": "65ebf8fc-785b-4424-ba3c-8ff627510292"
      },
      "outputs": [
        {
          "output_type": "stream",
          "name": "stdout",
          "text": [
            "Mounted at /content/drive\n"
          ]
        }
      ],
      "source": [
        "from google.colab import drive\n",
        "drive.mount('/content/drive')\n"
      ]
    },
    {
      "cell_type": "code",
      "source": [
        "%%capture\n",
        "import sys\n",
        "# Append the directory to your python path using sys\n",
        "sys.path.append('/content/drive/MyDrive/Colab Notebooks')\n",
        "# Import the module\n",
        "import jpmorgan_forage\n"
      ],
      "metadata": {
        "id": "cQkuAQgNIWRC",
        "collapsed": true
      },
      "execution_count": 2,
      "outputs": []
    },
    {
      "cell_type": "code",
      "source": [
        "test_predictions = jpmorgan_forage.test_predictions\n",
        "\n",
        "date_input = \"03-11-2025\"  # Adjust this based on forecast period. NOTE: Max forecast date is 9/30/2025\n",
        "predicted_price = jpmorgan_forage.get_forecasted_price(date_input, test_predictions)\n",
        "print(f\"Forecasted price for {date_input}: {predicted_price}\")"
      ],
      "metadata": {
        "colab": {
          "base_uri": "https://localhost:8080/"
        },
        "id": "PqHqvPFWKj5O",
        "outputId": "a59e14a4-76c8-4053-c926-ab1728b5d044"
      },
      "execution_count": 3,
      "outputs": [
        {
          "output_type": "stream",
          "name": "stdout",
          "text": [
            "Forecasted price for 03-11-2025: 13.1\n"
          ]
        }
      ]
    },
    {
      "cell_type": "code",
      "source": [
        "def pricing_model(inject_date, withdraw_date, inject_rate, withdraw_rate, transportation_cost, max_volume, storage_cost):\n",
        "    \"\"\"\n",
        "    Calculates the contract price for a storage agreement.\n",
        "\n",
        "    This function calculates the contract price based on predicted prices,\n",
        "    injection and withdrawal rates, transportation costs, and storage costs.\n",
        "\n",
        "    Args:\n",
        "        inject_date (str): The date of injection in \"MM-DD-YYYY\" format.\n",
        "        withdraw_date (str): The date of withdrawal in \"MM-DD-YYYY\" format.\n",
        "        inject_rate (float): The injection rate.\n",
        "        withdraw_rate (float): The withdrawal rate.\n",
        "        transportation_cost (float): The transportation cost.\n",
        "        max_volume (float): The maximum volume (currently unused in the calculation).\n",
        "        storage_cost (float): The storage cost.\n",
        "\n",
        "    Returns:\n",
        "        Prints the calculated contract price to the console.\n",
        "    \"\"\"\n",
        "\n",
        "    predicted_inject_price = jpmorgan_forage.get_forecasted_price(inject_date, test_predictions)\n",
        "    predicted_withdraw_price = jpmorgan_forage.get_forecasted_price(withdraw_date, test_predictions)\n",
        "\n",
        "    agreement_value = (predicted_inject_price - predicted_withdraw_price) * 1000000\n",
        "    costs = storage_cost - inject_rate - withdraw_rate - transportation_cost\n",
        "\n",
        "    formatted_price = \"${:,.2f}\".format(round(agreement_value - costs))\n",
        "\n",
        "    return print(f\"Contract Price: {formatted_price}\")"
      ],
      "metadata": {
        "id": "E1Ors3DhMgNu"
      },
      "execution_count": 4,
      "outputs": []
    },
    {
      "cell_type": "code",
      "source": [
        "# Sample usage of protoype pricing model\n",
        "pricing_model(\"03-11-2025\", \"07-11-2025\", 10000, 10000, 50000, 10, 200)"
      ],
      "metadata": {
        "colab": {
          "base_uri": "https://localhost:8080/"
        },
        "id": "k00kJykhY5mT",
        "outputId": "b6bfa330-4d58-47c9-e00c-1c10331fa7c5"
      },
      "execution_count": 5,
      "outputs": [
        {
          "output_type": "stream",
          "name": "stdout",
          "text": [
            "Contract Price: $1,049,800.00\n"
          ]
        }
      ]
    }
  ]
}